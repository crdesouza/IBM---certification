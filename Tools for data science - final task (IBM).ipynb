{
 "cells": [
  {
   "cell_type": "markdown",
   "id": "2ed31bdf-d317-4dbf-a158-135e6ca22af9",
   "metadata": {},
   "source": [
    "# My Jupyter Notebook on IBM Watson Studio"
   ]
  },
  {
   "cell_type": "markdown",
   "id": "10b85af5-7617-432f-9231-5141ee1bd166",
   "metadata": {},
   "source": [
    "**Cléber Rodrigo de Souza**\n",
    "\n",
    "Data Scientist at Zetta agency in Brazil"
   ]
  },
  {
   "cell_type": "markdown",
   "id": "5c62b5dc-872f-4f7c-8475-91565d7ca86a",
   "metadata": {},
   "source": [
    "*I am interested in data science because it can be very useful for my work, and also contribute to have a better income*"
   ]
  },
  {
   "cell_type": "markdown",
   "id": "631f5a44-02d6-4946-a452-4d64cc6aff1e",
   "metadata": {},
   "source": [
    "### The following code creates a dataset and plots its histogram"
   ]
  },
  {
   "cell_type": "code",
   "execution_count": 2,
   "id": "59c31ed3-c40e-403f-9cd1-7156cdae6a8f",
   "metadata": {},
   "outputs": [
    {
     "data": {
      "image/png": "[encoded data removed]",
      "text/plain": [
       "<Figure size 432x288 with 1 Axes>"
      ]
     },
     "metadata": {
      "needs_background": "light"
     },
     "output_type": "display_data"
    }
   ],
   "source": [
    "import matplotlib.pyplot as plt\n",
    "ages=[65,26,67,50,47,73,1,58,2,94,12,22,12,95,25,13,61,41,24,95]\n",
    "\n",
    "plt.hist(ages, 5, rwidth=0.9)\n",
    "plt.show()"
   ]
  },
  {
   "cell_type": "markdown",
   "id": "ab0ca34c-b1cc-4b02-8c07-6cfb567b7c9e",
   "metadata": {},
   "source": [
    "- one\n",
    "- two\n",
    "- three\n",
    "- four\n",
    "- five\n",
    "- six"
   ]
  }
 ],
 "metadata": {
  "kernelspec": {
   "display_name": "Python 3",
   "language": "python",
   "name": "python3"
  },
  "language_info": {
   "codemirror_mode": {
    "name": "ipython",
    "version": 3
   },
   "file_extension": ".py",
   "mimetype": "text/x-python",
   "name": "python",
   "nbconvert_exporter": "python",
   "pygments_lexer": "ipython3",
   "version": "3.8.8"
  }
 },
 "nbformat": 4,
 "nbformat_minor": 5
}
